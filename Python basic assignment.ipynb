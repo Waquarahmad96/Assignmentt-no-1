{
 "cells": [
  {
   "cell_type": "markdown",
   "id": "36f6ad01-1900-46ca-99c1-5c48e8ba3680",
   "metadata": {},
   "source": [
    "TOPIC: Python Basics Variable"
   ]
  },
  {
   "cell_type": "markdown",
   "id": "b7e1d028-85a7-4d6f-9b76-bdfae5f5ac80",
   "metadata": {},
   "source": [
    "1. Declare two variables, `x` and `y`, and assign them integer values.\n",
    "Swap the values of these variables without using any temporary\n",
    "variable."
   ]
  },
  {
   "cell_type": "code",
   "execution_count": 21,
   "id": "8f800e93-c815-48d6-9da9-14a63775e681",
   "metadata": {},
   "outputs": [],
   "source": [
    "x = 6"
   ]
  },
  {
   "cell_type": "code",
   "execution_count": 22,
   "id": "dac8bf82-90f2-4364-955f-a9decfcea18e",
   "metadata": {},
   "outputs": [],
   "source": [
    "y = 8"
   ]
  },
  {
   "cell_type": "code",
   "execution_count": 23,
   "id": "26fb5fc4-605d-43b8-ad2f-11570cb34cc4",
   "metadata": {},
   "outputs": [],
   "source": [
    "x , y = y , x"
   ]
  },
  {
   "cell_type": "code",
   "execution_count": 24,
   "id": "d347c484-9387-40e2-83ad-8694a30af5de",
   "metadata": {},
   "outputs": [
    {
     "data": {
      "text/plain": [
       "8"
      ]
     },
     "execution_count": 24,
     "metadata": {},
     "output_type": "execute_result"
    }
   ],
   "source": [
    "x"
   ]
  },
  {
   "cell_type": "code",
   "execution_count": 25,
   "id": "6f73cb6c-914c-4d97-a862-0f9f9b97597a",
   "metadata": {},
   "outputs": [
    {
     "data": {
      "text/plain": [
       "6"
      ]
     },
     "execution_count": 25,
     "metadata": {},
     "output_type": "execute_result"
    }
   ],
   "source": [
    "y"
   ]
  },
  {
   "cell_type": "markdown",
   "id": "1df064fd-5239-4cb2-9c70-dbcd58ba0ca1",
   "metadata": {},
   "source": [
    "2. Create a program that calculates the area of a rectangle. Take the\n",
    "length and width as inputs from the user and store them in variables.\n",
    "Calculate and display the area."
   ]
  },
  {
   "cell_type": "code",
   "execution_count": 1,
   "id": "a704fff9-9d09-4d90-9da9-ecce3081ae51",
   "metadata": {},
   "outputs": [
    {
     "name": "stdin",
     "output_type": "stream",
     "text": [
      "Enter the length of the rectangle: 4\n"
     ]
    }
   ],
   "source": [
    "Length = int(input(\"Enter the length of the rectangle:\"))"
   ]
  },
  {
   "cell_type": "code",
   "execution_count": 2,
   "id": "a2e9254d-dfb3-48ec-86a7-c160eaedd6a6",
   "metadata": {},
   "outputs": [
    {
     "name": "stdin",
     "output_type": "stream",
     "text": [
      "Enter the width of the rectangle: 6\n"
     ]
    }
   ],
   "source": [
    "Width = int(input(\"Enter the width of the rectangle:\"))"
   ]
  },
  {
   "cell_type": "code",
   "execution_count": 3,
   "id": "a389f8a1-d323-45b7-bc7b-bf00796b218c",
   "metadata": {},
   "outputs": [],
   "source": [
    "Area = Length * Width"
   ]
  },
  {
   "cell_type": "code",
   "execution_count": 5,
   "id": "409d371a-96bd-45e0-9eab-c6caeb0ce474",
   "metadata": {},
   "outputs": [
    {
     "data": {
      "text/plain": [
       "24"
      ]
     },
     "execution_count": 5,
     "metadata": {},
     "output_type": "execute_result"
    }
   ],
   "source": [
    "Area"
   ]
  },
  {
   "cell_type": "markdown",
   "id": "2f50aa91-bf7f-427b-bd1a-2c5cb7299a9c",
   "metadata": {},
   "source": [
    "3. Write a Python program that converts temperature from Celsius to\n",
    "Fahrenheit. Take the temperature in Celsius as input, store it in a\n",
    "variable, convert it to Fahrenheit, and display the result."
   ]
  },
  {
   "cell_type": "code",
   "execution_count": 6,
   "id": "00420816-f751-498b-a2c2-33d3d13ebada",
   "metadata": {},
   "outputs": [
    {
     "name": "stdin",
     "output_type": "stream",
     "text": [
      "Enter temp in celcius 24\n"
     ]
    }
   ],
   "source": [
    "Celcius = int(input(\"Enter temp in celcius\"))"
   ]
  },
  {
   "cell_type": "code",
   "execution_count": 7,
   "id": "1ac9624c-f77e-4b81-afbe-d2118497a2ea",
   "metadata": {},
   "outputs": [],
   "source": [
    "Fahrenheit = (Celcius * 9/5) + 32"
   ]
  },
  {
   "cell_type": "code",
   "execution_count": 8,
   "id": "0e416246-379a-4779-83ce-b2248ac43a32",
   "metadata": {},
   "outputs": [
    {
     "data": {
      "text/plain": [
       "75.2"
      ]
     },
     "execution_count": 8,
     "metadata": {},
     "output_type": "execute_result"
    }
   ],
   "source": [
    "Fahrenheit"
   ]
  },
  {
   "cell_type": "markdown",
   "id": "0e485131-5e2c-4a43-abab-3e69fd88728e",
   "metadata": {},
   "source": [
    "TOPIC: String Based Questions"
   ]
  },
  {
   "cell_type": "markdown",
   "id": "f475c5b1-74ca-4d69-9433-4f4065515867",
   "metadata": {},
   "source": [
    "1. Write a Python program that takes a string as input and prints the\n",
    "length of the string."
   ]
  },
  {
   "cell_type": "code",
   "execution_count": 28,
   "id": "6bf0885b-852e-41c0-9343-38ca4d5bf132",
   "metadata": {},
   "outputs": [
    {
     "name": "stdin",
     "output_type": "stream",
     "text": [
      "Enter a string:  PWAssignment\n"
     ]
    }
   ],
   "source": [
    "Input_string = input(\"Enter a string: \")"
   ]
  },
  {
   "cell_type": "code",
   "execution_count": 31,
   "id": "9863be04-9262-4267-9dae-ae2e665126f6",
   "metadata": {},
   "outputs": [],
   "source": [
    "String_Length = len(Input_string)"
   ]
  },
  {
   "cell_type": "code",
   "execution_count": 32,
   "id": "1e321ddb-8c90-4710-ac21-7a54afdce2c6",
   "metadata": {},
   "outputs": [
    {
     "data": {
      "text/plain": [
       "'PWAssignment'"
      ]
     },
     "execution_count": 32,
     "metadata": {},
     "output_type": "execute_result"
    }
   ],
   "source": [
    "Input_string"
   ]
  },
  {
   "cell_type": "code",
   "execution_count": 33,
   "id": "ea69d82c-c0b7-44bf-b5a1-42432bdb34b2",
   "metadata": {},
   "outputs": [
    {
     "data": {
      "text/plain": [
       "12"
      ]
     },
     "execution_count": 33,
     "metadata": {},
     "output_type": "execute_result"
    }
   ],
   "source": [
    "String_Length"
   ]
  },
  {
   "cell_type": "markdown",
   "id": "18c0215e-1476-491e-adf7-57a7a1489d25",
   "metadata": {},
   "source": [
    "2. Create a program that takes a sentence from the user and counts the\n",
    "number of vowels (a, e, i, o, u) in the string."
   ]
  },
  {
   "cell_type": "code",
   "execution_count": 35,
   "id": "d199cb8f-fe77-4dcc-a2c7-c2e9fd5e6e00",
   "metadata": {},
   "outputs": [
    {
     "name": "stdin",
     "output_type": "stream",
     "text": [
      "Enter a sentence:  My name is Waquar Ahmad\n"
     ]
    }
   ],
   "source": [
    "Sentence = input(\"Enter a sentence: \")"
   ]
  },
  {
   "cell_type": "code",
   "execution_count": 45,
   "id": "e75448d9-708c-417d-8fed-b27a15cacb93",
   "metadata": {},
   "outputs": [],
   "source": [
    "vowel_count = 0"
   ]
  },
  {
   "cell_type": "code",
   "execution_count": 46,
   "id": "feb46e54-55d5-44bb-8d2c-94841c921c76",
   "metadata": {},
   "outputs": [],
   "source": [
    "for char in Sentence:\n",
    "    if char in \"aeiou\":\n",
    "        vowel_count += 1"
   ]
  },
  {
   "cell_type": "code",
   "execution_count": 47,
   "id": "0894bfaa-c02f-4d8a-abec-75a62e5388ce",
   "metadata": {},
   "outputs": [
    {
     "data": {
      "text/plain": [
       "8"
      ]
     },
     "execution_count": 47,
     "metadata": {},
     "output_type": "execute_result"
    }
   ],
   "source": [
    "vowel_count"
   ]
  },
  {
   "cell_type": "markdown",
   "id": "a81f4817-2208-4a29-9861-74f5c448b061",
   "metadata": {},
   "source": [
    "3. Given a string, reverse the order of characters using string slicing and\n",
    "print the reversed string.\n"
   ]
  },
  {
   "cell_type": "code",
   "execution_count": 48,
   "id": "d2bd670d-8c43-4b1b-9018-2cc6817f0fa2",
   "metadata": {},
   "outputs": [
    {
     "name": "stdin",
     "output_type": "stream",
     "text": [
      "Enter a string:  This is my first PW assignment\n"
     ]
    }
   ],
   "source": [
    "input_string = input(\"Enter a string: \")"
   ]
  },
  {
   "cell_type": "code",
   "execution_count": 50,
   "id": "e64c2334-433e-432c-a3cd-4f71624c39d2",
   "metadata": {},
   "outputs": [],
   "source": [
    "reversed_string = input_string[::-1]"
   ]
  },
  {
   "cell_type": "code",
   "execution_count": 51,
   "id": "b73c9a69-ca48-49c5-9a58-e1817c4cd0bb",
   "metadata": {},
   "outputs": [
    {
     "data": {
      "text/plain": [
       "'tnemngissa WP tsrif ym si sihT'"
      ]
     },
     "execution_count": 51,
     "metadata": {},
     "output_type": "execute_result"
    }
   ],
   "source": [
    "reversed_string"
   ]
  },
  {
   "cell_type": "markdown",
   "id": "eb986bfb-c4c9-42e8-8361-064cf8156c26",
   "metadata": {},
   "source": [
    "4. Write a program that takes a string as input and checks if it is a\n",
    "palindrome (reads the same forwards and backwards).\n"
   ]
  },
  {
   "cell_type": "code",
   "execution_count": 2,
   "id": "4836a1f4-35af-4a83-bcd2-1c1a0a5ad600",
   "metadata": {},
   "outputs": [
    {
     "name": "stdin",
     "output_type": "stream",
     "text": [
      "Enter a string:  This is my first pw assignment\n"
     ]
    },
    {
     "name": "stdout",
     "output_type": "stream",
     "text": [
      "It is not a palindrome\n"
     ]
    }
   ],
   "source": [
    "def is_palindrome(input_string):\n",
    "    input_string = ''.join(filter(str.isalnum,input_string)).lower()\n",
    "    return input_string == input_string[::-1]\n",
    "\n",
    "\n",
    "user_input = input(\"Enter a string: \")\n",
    "\n",
    "if is_palindrome(user_input):\n",
    "    print(\"It is a palindrome\")\n",
    "else:\n",
    "    print(\"It is not a palindrome\")"
   ]
  },
  {
   "cell_type": "markdown",
   "id": "85cab974-dd8e-483d-9d0f-1b119d5f7ddd",
   "metadata": {},
   "source": [
    "5.Create a program that takes a string as input and removes all the\n",
    "spaces from it. Print the modified string without spaces."
   ]
  },
  {
   "cell_type": "code",
   "execution_count": 12,
   "id": "260e6170-c4e9-4d30-aa89-7bdf19e0016a",
   "metadata": {},
   "outputs": [
    {
     "name": "stdin",
     "output_type": "stream",
     "text": [
      "Enter a string:  This  is  my  first  pw  assignment\n"
     ]
    },
    {
     "name": "stdout",
     "output_type": "stream",
     "text": [
      "Thisismyfirstpwassignment\n"
     ]
    }
   ],
   "source": [
    "def remove(input_string):\n",
    "    return input_string.replace(\" \",\"\")\n",
    "\n",
    "input_string = input(\"Enter a string: \")\n",
    "print(remove(input_string))"
   ]
  },
  {
   "cell_type": "code",
   "execution_count": null,
   "id": "25693314-c58d-412a-9002-0cf2118826e0",
   "metadata": {},
   "outputs": [],
   "source": []
  }
 ],
 "metadata": {
  "kernelspec": {
   "display_name": "Python 3 (ipykernel)",
   "language": "python",
   "name": "python3"
  },
  "language_info": {
   "codemirror_mode": {
    "name": "ipython",
    "version": 3
   },
   "file_extension": ".py",
   "mimetype": "text/x-python",
   "name": "python",
   "nbconvert_exporter": "python",
   "pygments_lexer": "ipython3",
   "version": "3.10.8"
  }
 },
 "nbformat": 4,
 "nbformat_minor": 5
}
